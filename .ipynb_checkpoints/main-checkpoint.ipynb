{
 "cells": [
  {
   "cell_type": "markdown",
   "metadata": {
    "toc": true
   },
   "source": [
    "<h1>Table of Contents<span class=\"tocSkip\"></span></h1>\n",
    "<div class=\"toc\"><ul class=\"toc-item\"><li><span><a href=\"#Functions\" data-toc-modified-id=\"Functions-1\"><span class=\"toc-item-num\">1&nbsp;&nbsp;</span>Functions</a></span><ul class=\"toc-item\"><li><span><a href=\"#1.-Write-a-function-that-returns-the-greater-of-two-numbers\" data-toc-modified-id=\"1.-Write-a-function-that-returns-the-greater-of-two-numbers-1.1\"><span class=\"toc-item-num\">1.1&nbsp;&nbsp;</span>1. Write a function that returns the greater of two numbers</a></span></li><li><span><a href=\"#2.-Now-write-a-function-that-returns-the-largest-element-on-a-list\" data-toc-modified-id=\"2.-Now-write-a-function-that-returns-the-largest-element-on-a-list-1.2\"><span class=\"toc-item-num\">1.2&nbsp;&nbsp;</span>2. Now write a function that returns the largest element on a list</a></span></li><li><span><a href=\"#3.-Write-a-function-that-sums-all-the-elements-on-a-list\" data-toc-modified-id=\"3.-Write-a-function-that-sums-all-the-elements-on-a-list-1.3\"><span class=\"toc-item-num\">1.3&nbsp;&nbsp;</span>3. Write a function that sums all the elements on a list</a></span></li><li><span><a href=\"#4.-Write-another-function-that-multiplies-all-the-elements-on-a-list\" data-toc-modified-id=\"4.-Write-another-function-that-multiplies-all-the-elements-on-a-list-1.4\"><span class=\"toc-item-num\">1.4&nbsp;&nbsp;</span>4. Write another function that multiplies all the elements on a list</a></span></li><li><span><a href=\"#5.-Now-combine-those-two-ideas-and-write-a-function-that-receives-a-list-and-either-&quot;+&quot;-or-&quot;*&quot;-and-outputs-acordingly\" data-toc-modified-id=\"5.-Now-combine-those-two-ideas-and-write-a-function-that-receives-a-list-and-either-&quot;+&quot;-or-&quot;*&quot;-and-outputs-acordingly-1.5\"><span class=\"toc-item-num\">1.5&nbsp;&nbsp;</span>5. Now combine those two ideas and write a function that receives a list and either \"+\" or \"*\" and outputs acordingly</a></span></li><li><span><a href=\"#6.-Write-a-function-that-returns-the-factorial-of-a-number.\" data-toc-modified-id=\"6.-Write-a-function-that-returns-the-factorial-of-a-number.-1.6\"><span class=\"toc-item-num\">1.6&nbsp;&nbsp;</span>6. Write a function that returns the factorial of a number.</a></span></li><li><span><a href=\"#7.-Write-a-function-that-takes-a-list-and-returns-a-list-of-the-unique-values.\" data-toc-modified-id=\"7.-Write-a-function-that-takes-a-list-and-returns-a-list-of-the-unique-values.-1.7\"><span class=\"toc-item-num\">1.7&nbsp;&nbsp;</span>7. Write a function that takes a list and returns a list of the unique values.</a></span></li><li><span><a href=\"#8.-Write-a-function-that-returns-the-mode-of-a-list,-i.e.:-the-element-that-appears-the-most-times.\" data-toc-modified-id=\"8.-Write-a-function-that-returns-the-mode-of-a-list,-i.e.:-the-element-that-appears-the-most-times.-1.8\"><span class=\"toc-item-num\">1.8&nbsp;&nbsp;</span>8. Write a function that returns the mode of a list, i.e.: the element that appears the most times.</a></span></li><li><span><a href=\"#9.-Write-a-function-that-calculates-the-standard-deviation-of-a-list.\" data-toc-modified-id=\"9.-Write-a-function-that-calculates-the-standard-deviation-of-a-list.-1.9\"><span class=\"toc-item-num\">1.9&nbsp;&nbsp;</span>9. Write a function that calculates the standard deviation of a list.</a></span></li><li><span><a href=\"#10.-Write-a-function-to-check-if-a-string-is-a-pangram,-i.e.:-if-it-contains-all-the-letters-of-the-alphabet-at-least-once.-Mind-that-the-strings-may-contain-characters-that-are-not-letters.\" data-toc-modified-id=\"10.-Write-a-function-to-check-if-a-string-is-a-pangram,-i.e.:-if-it-contains-all-the-letters-of-the-alphabet-at-least-once.-Mind-that-the-strings-may-contain-characters-that-are-not-letters.-1.10\"><span class=\"toc-item-num\">1.10&nbsp;&nbsp;</span>10. Write a function to check if a string is a pangram, i.e.: if it contains all the letters of the alphabet at least once. Mind that the strings may contain characters that are not letters.</a></span></li><li><span><a href=\"#11.-Write-a-function-that-receives-a-string-of-comma-separated-words-and-returns-a-string-of-comma-separated-words-sorted-alphabetically.\" data-toc-modified-id=\"11.-Write-a-function-that-receives-a-string-of-comma-separated-words-and-returns-a-string-of-comma-separated-words-sorted-alphabetically.-1.11\"><span class=\"toc-item-num\">1.11&nbsp;&nbsp;</span>11. Write a function that receives a string of comma separated words and returns a string of comma separated words sorted alphabetically.</a></span></li><li><span><a href=\"#12.-Write-a-function-to-check-if-a-given-password-is-strong-(at-least-8-characters,-at-least-one-lower-case,-at-least-one-upper-case,-at-least-one-number-and-at-least-one-special-character).-It-should-output-True-if-strong-and-False-if-not.\" data-toc-modified-id=\"12.-Write-a-function-to-check-if-a-given-password-is-strong-(at-least-8-characters,-at-least-one-lower-case,-at-least-one-upper-case,-at-least-one-number-and-at-least-one-special-character).-It-should-output-True-if-strong-and-False-if-not.-1.12\"><span class=\"toc-item-num\">1.12&nbsp;&nbsp;</span>12. Write a function to check if a given password is strong (at least 8 characters, at least one lower case, at least one upper case, at least one number and at least one special character). It should output True if strong and False if not.</a></span></li></ul></li></ul></div>"
   ]
  },
  {
   "cell_type": "markdown",
   "metadata": {},
   "source": [
    "# Functions"
   ]
  },
  {
   "cell_type": "markdown",
   "metadata": {},
   "source": [
    "On this lab we will put to practice some of the concepts we have learned on this past few days.\n",
    "\n",
    "`NOTE: On this lab you should try to write all the functions yourself using only the most basic of python syntax and without functions such as len, count, sum, max, min, in, etc. Give it a try. 🧑🏻‍💻👩🏻‍💻`\n",
    "\n",
    "The cell after each exercise contains a few tests to check if your function works as expected."
   ]
  },
  {
   "cell_type": "code",
   "execution_count": 1,
   "metadata": {},
   "outputs": [],
   "source": [
    "#Run this cell\n",
    "\n",
    "from mod.testing import *\n",
    "import unittest"
   ]
  },
  {
   "cell_type": "markdown",
   "metadata": {},
   "source": [
    "## 1. Write a function that returns the greater of two numbers"
   ]
  },
  {
   "cell_type": "code",
   "execution_count": 5,
   "metadata": {},
   "outputs": [],
   "source": [
    "def greater(a,b):\n",
    "    \n",
    "    greater = ''\n",
    "    \n",
    "    if a < b:\n",
    "        greater = b\n",
    "    elif a > b:\n",
    "        greater = a\n",
    "        \n",
    "    return greater\n",
    "    pass"
   ]
  },
  {
   "cell_type": "code",
   "execution_count": 6,
   "metadata": {},
   "outputs": [
    {
     "name": "stderr",
     "output_type": "stream",
     "text": [
      "....................................................................................................\n",
      "----------------------------------------------------------------------\n",
      "Ran 100 tests in 0.051s\n",
      "\n",
      "OK\n"
     ]
    }
   ],
   "source": [
    "# This will test your function \n",
    "test_greater(greater)"
   ]
  },
  {
   "cell_type": "markdown",
   "metadata": {},
   "source": [
    "## 2. Now write a function that returns the largest element on a list"
   ]
  },
  {
   "cell_type": "code",
   "execution_count": 9,
   "metadata": {},
   "outputs": [],
   "source": [
    "def greatest(arr):\n",
    "    \n",
    "    largest = 0\n",
    "    \n",
    "    for i in arr:\n",
    "        if i>largest:\n",
    "            largest = i\n",
    "            \n",
    "    return largest\n",
    "    pass"
   ]
  },
  {
   "cell_type": "code",
   "execution_count": 10,
   "metadata": {},
   "outputs": [
    {
     "name": "stderr",
     "output_type": "stream",
     "text": [
      "....................................................................................................\n",
      "----------------------------------------------------------------------\n",
      "Ran 100 tests in 0.047s\n",
      "\n",
      "OK\n"
     ]
    }
   ],
   "source": [
    "# This will test your function \n",
    "test_greatest(greatest)"
   ]
  },
  {
   "cell_type": "markdown",
   "metadata": {},
   "source": [
    "## 3. Write a function that sums all the elements on a list"
   ]
  },
  {
   "cell_type": "code",
   "execution_count": 11,
   "metadata": {},
   "outputs": [],
   "source": [
    "def sum_all(arr):\n",
    "    \n",
    "    sum = 0\n",
    "    \n",
    "    for i in arr:\n",
    "        sum +=i\n",
    "    \n",
    "    return sum\n",
    "    pass"
   ]
  },
  {
   "cell_type": "code",
   "execution_count": 12,
   "metadata": {},
   "outputs": [
    {
     "name": "stderr",
     "output_type": "stream",
     "text": [
      "....................................................................................................\n",
      "----------------------------------------------------------------------\n",
      "Ran 100 tests in 0.049s\n",
      "\n",
      "OK\n"
     ]
    }
   ],
   "source": [
    "# This will test your function \n",
    "test_sum(sum_all)"
   ]
  },
  {
   "cell_type": "markdown",
   "metadata": {},
   "source": [
    "## 4. Write another function that multiplies all the elements on a list"
   ]
  },
  {
   "cell_type": "code",
   "execution_count": 13,
   "metadata": {},
   "outputs": [],
   "source": [
    "def mult_all(arr):\n",
    "    \n",
    "    mul = 1\n",
    "    \n",
    "    for i in arr:\n",
    "        mul *=i\n",
    "    \n",
    "    return mul\n",
    "    pass"
   ]
  },
  {
   "cell_type": "code",
   "execution_count": 14,
   "metadata": {},
   "outputs": [
    {
     "name": "stderr",
     "output_type": "stream",
     "text": [
      "....................................................................................................\n",
      "----------------------------------------------------------------------\n",
      "Ran 100 tests in 0.049s\n",
      "\n",
      "OK\n"
     ]
    }
   ],
   "source": [
    "# This will test your function \n",
    "test_mult(mult_all)"
   ]
  },
  {
   "cell_type": "markdown",
   "metadata": {},
   "source": [
    "## 5. Now combine those two ideas and write a function that receives a list and either \"+\" or \"*\" and outputs acordingly"
   ]
  },
  {
   "cell_type": "code",
   "execution_count": 17,
   "metadata": {},
   "outputs": [],
   "source": [
    "def oper_all(arr, oper):\n",
    "    \n",
    "    result = 0\n",
    "    \n",
    "    if oper == \"+\":\n",
    "        result = sum_all(arr)\n",
    "    elif oper == \"*\":\n",
    "        result = mult_all(arr)\n",
    "        \n",
    "    return result\n",
    "    pass"
   ]
  },
  {
   "cell_type": "code",
   "execution_count": 18,
   "metadata": {},
   "outputs": [
    {
     "name": "stderr",
     "output_type": "stream",
     "text": [
      "....................................................................................................\n",
      "----------------------------------------------------------------------\n",
      "Ran 100 tests in 0.046s\n",
      "\n",
      "OK\n"
     ]
    }
   ],
   "source": [
    "# This will test your function \n",
    "test_operations(oper_all)"
   ]
  },
  {
   "cell_type": "markdown",
   "metadata": {},
   "source": [
    "## 6. Write a function that returns the factorial of a number."
   ]
  },
  {
   "cell_type": "code",
   "execution_count": 22,
   "metadata": {},
   "outputs": [],
   "source": [
    "def factorial(n):\n",
    "    \n",
    "    res = 1\n",
    "    \n",
    "    if n == 0:\n",
    "        res = 1\n",
    "    else:\n",
    "        for i in range(1,n+1):\n",
    "            res *= i\n",
    "    return res\n",
    "    pass"
   ]
  },
  {
   "cell_type": "code",
   "execution_count": 23,
   "metadata": {},
   "outputs": [
    {
     "name": "stderr",
     "output_type": "stream",
     "text": [
      "....................................................................................................\n",
      "----------------------------------------------------------------------\n",
      "Ran 100 tests in 0.053s\n",
      "\n",
      "OK\n"
     ]
    }
   ],
   "source": [
    "# This will test your function \n",
    "test_factorial(factorial)"
   ]
  },
  {
   "cell_type": "markdown",
   "metadata": {},
   "source": [
    "## 7. Write a function that takes a list and returns a list of the unique values.\n",
    "\n",
    "`NOTE: You cannot use set. 🤔`"
   ]
  },
  {
   "cell_type": "code",
   "execution_count": 38,
   "metadata": {},
   "outputs": [],
   "source": [
    "def unique(arr):\n",
    "    \n",
    "    \"\"\"\n",
    "    \n",
    "        He revisado este código para evitar usar el \"in\" en el IF, funciona pero no cumple los test\n",
    "    \n",
    "    \n",
    "    list_aux = []\n",
    "    list_veces = []\n",
    "    num_veces = 0\n",
    "    indice = 0\n",
    "    contador = 0\n",
    "    \n",
    "    for i in arr:\n",
    "        num_veces = 0\n",
    "        for j in arr:\n",
    "            if j == i:\n",
    "                num_veces +=1\n",
    "        list_veces.append(num_veces)\n",
    "        contador += 1\n",
    "    \n",
    "    for k in range (contador):\n",
    "        if list_veces[indice] == 1:\n",
    "            list_aux.append(arr[indice])\n",
    "        indice +=1\n",
    "        \n",
    "    \n",
    "    return list_aux\n",
    "    \"\"\"\n",
    "    \n",
    "    aux = []\n",
    "    \n",
    "    for i in arr:\n",
    "        if i not in aux:\n",
    "            aux.append(i)\n",
    "            \n",
    "    return aux\n",
    "    pass"
   ]
  },
  {
   "cell_type": "code",
   "execution_count": 39,
   "metadata": {},
   "outputs": [
    {
     "name": "stderr",
     "output_type": "stream",
     "text": [
      "....................................................................................................\n",
      "----------------------------------------------------------------------\n",
      "Ran 100 tests in 0.080s\n",
      "\n",
      "OK\n"
     ]
    }
   ],
   "source": [
    "# This will test your function \n",
    "test_unique(unique)"
   ]
  },
  {
   "cell_type": "markdown",
   "metadata": {},
   "source": [
    "## 8. Write a function that returns the mode of a list, i.e.: the element that appears the most times.\n",
    "`NOTE: You should not use count... 🧐`"
   ]
  },
  {
   "cell_type": "code",
   "execution_count": 41,
   "metadata": {},
   "outputs": [],
   "source": [
    "def mode_counter(arr):\n",
    "    \n",
    "    list_elem_uniq = unique(arr)\n",
    "    \n",
    "    moda = 0\n",
    "    mayor_num = 0\n",
    "    aux = 0\n",
    "    \n",
    "    for i in list_elem_uniq:\n",
    "        aux = 0\n",
    "        for j in arr:\n",
    "            if i == j:\n",
    "                aux +=1\n",
    "        if mayor_num < aux:\n",
    "            mayor_num = aux\n",
    "            moda = j\n",
    "            \n",
    "    return moda\n",
    "\n",
    "    pass"
   ]
  },
  {
   "cell_type": "code",
   "execution_count": 42,
   "metadata": {},
   "outputs": [
    {
     "name": "stderr",
     "output_type": "stream",
     "text": [
      "....................................................................................................\n",
      "----------------------------------------------------------------------\n",
      "Ran 100 tests in 0.068s\n",
      "\n",
      "OK\n"
     ]
    }
   ],
   "source": [
    "# This will test your function \n",
    "test_mode(mode_counter)"
   ]
  },
  {
   "cell_type": "markdown",
   "metadata": {},
   "source": [
    "## 9. Write a function that calculates the standard deviation of a list.\n",
    "`NOTE: Do not use any libraries or already built functions. 😉`"
   ]
  },
  {
   "cell_type": "code",
   "execution_count": 83,
   "metadata": {},
   "outputs": [],
   "source": [
    "from statistics import stdev\n",
    "def st_dev(arr):\n",
    "    \n",
    "    media = 0.0\n",
    "    sum_total = 0.0\n",
    "    #necesitamos el cuadrado de la distancia a la media para cada dato\n",
    "    suma_distancias = 0.0\n",
    "    #st_dev = suma_distancias / num_elements\n",
    "    res = 0.0\n",
    "    \n",
    "    num_elements = 0\n",
    "    \n",
    "    for i in arr:\n",
    "        sum_total += i\n",
    "        num_elements +=1\n",
    "    \n",
    "    media = sum_total / num_elements\n",
    "    \n",
    "    cuad_dist_medias = []\n",
    "    \n",
    "    for j in range (num_elements):\n",
    "        cuad_dist_medias.append((arr[j]-media)**2)\n",
    "        \n",
    "    for k in range (num_elements):\n",
    "        suma_distancias += cuad_dist_medias[k]\n",
    "    \n",
    "    res = (suma_distancias/num_elements)**0.5\n",
    "    \n",
    "    return res\n",
    "    \n",
    "    pass"
   ]
  },
  {
   "cell_type": "code",
   "execution_count": 84,
   "metadata": {},
   "outputs": [
    {
     "name": "stderr",
     "output_type": "stream",
     "text": [
      ".FF..F..FFFFFF..FFF...F.FFF..FF.FF.F....F.FF..F....F.F..FF.F.FFFF..FF........F.....F.F.....FFFFFF.FF\n",
      "======================================================================\n",
      "FAIL: runTest (mod.testing.test_stdev.<locals>.TestKnown)\n",
      "----------------------------------------------------------------------\n",
      "Traceback (most recent call last):\n",
      "  File \"/Users/carlosbasco/Desktop/Labs/Lab Bash 10_08/1.3-lab-functions/mod/testing.py\", line 142, in runTest\n",
      "    self.assertAlmostEqual(fn(self.input), self.output, delta=5, msg=f\"Should be {self.output}\")\n",
      "AssertionError: 589.70209051313 != 596.8502556272188 within 5 delta (7.148165114088783 difference) : Should be 596.8502556272188\n",
      "\n",
      "======================================================================\n",
      "FAIL: runTest (mod.testing.test_stdev.<locals>.TestKnown)\n",
      "----------------------------------------------------------------------\n",
      "Traceback (most recent call last):\n",
      "  File \"/Users/carlosbasco/Desktop/Labs/Lab Bash 10_08/1.3-lab-functions/mod/testing.py\", line 142, in runTest\n",
      "    self.assertAlmostEqual(fn(self.input), self.output, delta=5, msg=f\"Should be {self.output}\")\n",
      "AssertionError: 621.6277312305994 != 628.0696414330149 within 5 delta (6.441910202415556 difference) : Should be 628.0696414330149\n",
      "\n",
      "======================================================================\n",
      "FAIL: runTest (mod.testing.test_stdev.<locals>.TestKnown)\n",
      "----------------------------------------------------------------------\n",
      "Traceback (most recent call last):\n",
      "  File \"/Users/carlosbasco/Desktop/Labs/Lab Bash 10_08/1.3-lab-functions/mod/testing.py\", line 142, in runTest\n",
      "    self.assertAlmostEqual(fn(self.input), self.output, delta=5, msg=f\"Should be {self.output}\")\n",
      "AssertionError: 480.484937859871 != 498.62278459641345 within 5 delta (18.13784673654243 difference) : Should be 498.62278459641345\n",
      "\n",
      "======================================================================\n",
      "FAIL: runTest (mod.testing.test_stdev.<locals>.TestKnown)\n",
      "----------------------------------------------------------------------\n",
      "Traceback (most recent call last):\n",
      "  File \"/Users/carlosbasco/Desktop/Labs/Lab Bash 10_08/1.3-lab-functions/mod/testing.py\", line 142, in runTest\n",
      "    self.assertAlmostEqual(fn(self.input), self.output, delta=5, msg=f\"Should be {self.output}\")\n",
      "AssertionError: 529.1709127820629 != 538.5374968077713 within 5 delta (9.366584025708335 difference) : Should be 538.5374968077713\n",
      "\n",
      "======================================================================\n",
      "FAIL: runTest (mod.testing.test_stdev.<locals>.TestKnown)\n",
      "----------------------------------------------------------------------\n",
      "Traceback (most recent call last):\n",
      "  File \"/Users/carlosbasco/Desktop/Labs/Lab Bash 10_08/1.3-lab-functions/mod/testing.py\", line 142, in runTest\n",
      "    self.assertAlmostEqual(fn(self.input), self.output, delta=5, msg=f\"Should be {self.output}\")\n",
      "AssertionError: 660.6936722574187 != 669.8071189354265 within 5 delta (9.11344667800779 difference) : Should be 669.8071189354265\n",
      "\n",
      "======================================================================\n",
      "FAIL: runTest (mod.testing.test_stdev.<locals>.TestKnown)\n",
      "----------------------------------------------------------------------\n",
      "Traceback (most recent call last):\n",
      "  File \"/Users/carlosbasco/Desktop/Labs/Lab Bash 10_08/1.3-lab-functions/mod/testing.py\", line 142, in runTest\n",
      "    self.assertAlmostEqual(fn(self.input), self.output, delta=5, msg=f\"Should be {self.output}\")\n",
      "AssertionError: 567.2544724269172 != 572.5809223581393 within 5 delta (5.3264499312221005 difference) : Should be 572.5809223581393\n",
      "\n",
      "======================================================================\n",
      "FAIL: runTest (mod.testing.test_stdev.<locals>.TestKnown)\n",
      "----------------------------------------------------------------------\n",
      "Traceback (most recent call last):\n",
      "  File \"/Users/carlosbasco/Desktop/Labs/Lab Bash 10_08/1.3-lab-functions/mod/testing.py\", line 142, in runTest\n",
      "    self.assertAlmostEqual(fn(self.input), self.output, delta=5, msg=f\"Should be {self.output}\")\n",
      "AssertionError: 577.6559208380354 != 584.83204593389 within 5 delta (7.176125095854559 difference) : Should be 584.83204593389\n",
      "\n",
      "======================================================================\n",
      "FAIL: runTest (mod.testing.test_stdev.<locals>.TestKnown)\n",
      "----------------------------------------------------------------------\n",
      "Traceback (most recent call last):\n",
      "  File \"/Users/carlosbasco/Desktop/Labs/Lab Bash 10_08/1.3-lab-functions/mod/testing.py\", line 142, in runTest\n",
      "    self.assertAlmostEqual(fn(self.input), self.output, delta=5, msg=f\"Should be {self.output}\")\n",
      "AssertionError: 584.5245231185557 != 589.5419930276022 within 5 delta (5.01746990904644 difference) : Should be 589.5419930276022\n",
      "\n",
      "======================================================================\n",
      "FAIL: runTest (mod.testing.test_stdev.<locals>.TestKnown)\n",
      "----------------------------------------------------------------------\n",
      "Traceback (most recent call last):\n",
      "  File \"/Users/carlosbasco/Desktop/Labs/Lab Bash 10_08/1.3-lab-functions/mod/testing.py\", line 142, in runTest\n",
      "    self.assertAlmostEqual(fn(self.input), self.output, delta=5, msg=f\"Should be {self.output}\")\n",
      "AssertionError: 614.7782577413317 != 619.7969390350593 within 5 delta (5.018681293727582 difference) : Should be 619.7969390350593\n",
      "\n",
      "======================================================================\n",
      "FAIL: runTest (mod.testing.test_stdev.<locals>.TestKnown)\n",
      "----------------------------------------------------------------------\n",
      "Traceback (most recent call last):\n",
      "  File \"/Users/carlosbasco/Desktop/Labs/Lab Bash 10_08/1.3-lab-functions/mod/testing.py\", line 142, in runTest\n",
      "    self.assertAlmostEqual(fn(self.input), self.output, delta=5, msg=f\"Should be {self.output}\")\n",
      "AssertionError: 567.41301839728 != 574.2910030757099 within 5 delta (6.877984678429925 difference) : Should be 574.2910030757099\n",
      "\n",
      "======================================================================\n",
      "FAIL: runTest (mod.testing.test_stdev.<locals>.TestKnown)\n",
      "----------------------------------------------------------------------\n",
      "Traceback (most recent call last):\n",
      "  File \"/Users/carlosbasco/Desktop/Labs/Lab Bash 10_08/1.3-lab-functions/mod/testing.py\", line 142, in runTest\n",
      "    self.assertAlmostEqual(fn(self.input), self.output, delta=5, msg=f\"Should be {self.output}\")\n",
      "AssertionError: 576.6952379723625 != 584.0419703042951 within 5 delta (7.3467323319325715 difference) : Should be 584.0419703042951\n",
      "\n",
      "======================================================================\n",
      "FAIL: runTest (mod.testing.test_stdev.<locals>.TestKnown)\n",
      "----------------------------------------------------------------------\n",
      "Traceback (most recent call last):\n",
      "  File \"/Users/carlosbasco/Desktop/Labs/Lab Bash 10_08/1.3-lab-functions/mod/testing.py\", line 142, in runTest\n",
      "    self.assertAlmostEqual(fn(self.input), self.output, delta=5, msg=f\"Should be {self.output}\")\n",
      "AssertionError: 601.0296023485911 != 607.3898810828543 within 5 delta (6.360278734263261 difference) : Should be 607.3898810828543\n",
      "\n",
      "======================================================================\n",
      "FAIL: runTest (mod.testing.test_stdev.<locals>.TestKnown)\n",
      "----------------------------------------------------------------------\n",
      "Traceback (most recent call last):\n",
      "  File \"/Users/carlosbasco/Desktop/Labs/Lab Bash 10_08/1.3-lab-functions/mod/testing.py\", line 142, in runTest\n",
      "    self.assertAlmostEqual(fn(self.input), self.output, delta=5, msg=f\"Should be {self.output}\")\n",
      "AssertionError: 620.8501386007671 != 626.907356561085 within 5 delta (6.057217960317871 difference) : Should be 626.907356561085\n",
      "\n",
      "======================================================================\n",
      "FAIL: runTest (mod.testing.test_stdev.<locals>.TestKnown)\n",
      "----------------------------------------------------------------------\n",
      "Traceback (most recent call last):\n",
      "  File \"/Users/carlosbasco/Desktop/Labs/Lab Bash 10_08/1.3-lab-functions/mod/testing.py\", line 142, in runTest\n",
      "    self.assertAlmostEqual(fn(self.input), self.output, delta=5, msg=f\"Should be {self.output}\")\n",
      "AssertionError: 568.2023150418484 != 573.8562086753913 within 5 delta (5.653893633542907 difference) : Should be 573.8562086753913\n",
      "\n",
      "======================================================================\n",
      "FAIL: runTest (mod.testing.test_stdev.<locals>.TestKnown)\n",
      "----------------------------------------------------------------------\n",
      "Traceback (most recent call last):\n",
      "  File \"/Users/carlosbasco/Desktop/Labs/Lab Bash 10_08/1.3-lab-functions/mod/testing.py\", line 142, in runTest\n",
      "    self.assertAlmostEqual(fn(self.input), self.output, delta=5, msg=f\"Should be {self.output}\")\n",
      "AssertionError: 588.2752672765176 != 593.504483601546 within 5 delta (5.2292163250283465 difference) : Should be 593.504483601546\n",
      "\n"
     ]
    },
    {
     "name": "stderr",
     "output_type": "stream",
     "text": [
      "======================================================================\n",
      "FAIL: runTest (mod.testing.test_stdev.<locals>.TestKnown)\n",
      "----------------------------------------------------------------------\n",
      "Traceback (most recent call last):\n",
      "  File \"/Users/carlosbasco/Desktop/Labs/Lab Bash 10_08/1.3-lab-functions/mod/testing.py\", line 142, in runTest\n",
      "    self.assertAlmostEqual(fn(self.input), self.output, delta=5, msg=f\"Should be {self.output}\")\n",
      "AssertionError: 603.5933202030748 != 612.670420832669 within 5 delta (9.07710062959427 difference) : Should be 612.670420832669\n",
      "\n",
      "======================================================================\n",
      "FAIL: runTest (mod.testing.test_stdev.<locals>.TestKnown)\n",
      "----------------------------------------------------------------------\n",
      "Traceback (most recent call last):\n",
      "  File \"/Users/carlosbasco/Desktop/Labs/Lab Bash 10_08/1.3-lab-functions/mod/testing.py\", line 142, in runTest\n",
      "    self.assertAlmostEqual(fn(self.input), self.output, delta=5, msg=f\"Should be {self.output}\")\n",
      "AssertionError: 564.3095997544256 != 571.4985468945342 within 5 delta (7.188947140108667 difference) : Should be 571.4985468945342\n",
      "\n",
      "======================================================================\n",
      "FAIL: runTest (mod.testing.test_stdev.<locals>.TestKnown)\n",
      "----------------------------------------------------------------------\n",
      "Traceback (most recent call last):\n",
      "  File \"/Users/carlosbasco/Desktop/Labs/Lab Bash 10_08/1.3-lab-functions/mod/testing.py\", line 142, in runTest\n",
      "    self.assertAlmostEqual(fn(self.input), self.output, delta=5, msg=f\"Should be {self.output}\")\n",
      "AssertionError: 641.5365686909707 != 649.9230235744843 within 5 delta (8.38645488351358 difference) : Should be 649.9230235744843\n",
      "\n",
      "======================================================================\n",
      "FAIL: runTest (mod.testing.test_stdev.<locals>.TestKnown)\n",
      "----------------------------------------------------------------------\n",
      "Traceback (most recent call last):\n",
      "  File \"/Users/carlosbasco/Desktop/Labs/Lab Bash 10_08/1.3-lab-functions/mod/testing.py\", line 142, in runTest\n",
      "    self.assertAlmostEqual(fn(self.input), self.output, delta=5, msg=f\"Should be {self.output}\")\n",
      "AssertionError: 619.2228200142872 != 626.3817031610744 within 5 delta (7.158883146787161 difference) : Should be 626.3817031610744\n",
      "\n",
      "======================================================================\n",
      "FAIL: runTest (mod.testing.test_stdev.<locals>.TestKnown)\n",
      "----------------------------------------------------------------------\n",
      "Traceback (most recent call last):\n",
      "  File \"/Users/carlosbasco/Desktop/Labs/Lab Bash 10_08/1.3-lab-functions/mod/testing.py\", line 142, in runTest\n",
      "    self.assertAlmostEqual(fn(self.input), self.output, delta=5, msg=f\"Should be {self.output}\")\n",
      "AssertionError: 545.5026500003298 != 551.9585273794072 within 5 delta (6.4558773790773785 difference) : Should be 551.9585273794072\n",
      "\n",
      "======================================================================\n",
      "FAIL: runTest (mod.testing.test_stdev.<locals>.TestKnown)\n",
      "----------------------------------------------------------------------\n",
      "Traceback (most recent call last):\n",
      "  File \"/Users/carlosbasco/Desktop/Labs/Lab Bash 10_08/1.3-lab-functions/mod/testing.py\", line 142, in runTest\n",
      "    self.assertAlmostEqual(fn(self.input), self.output, delta=5, msg=f\"Should be {self.output}\")\n",
      "AssertionError: 473.36314654101875 != 480.7025477298195 within 5 delta (7.339401188800764 difference) : Should be 480.7025477298195\n",
      "\n",
      "======================================================================\n",
      "FAIL: runTest (mod.testing.test_stdev.<locals>.TestKnown)\n",
      "----------------------------------------------------------------------\n",
      "Traceback (most recent call last):\n",
      "  File \"/Users/carlosbasco/Desktop/Labs/Lab Bash 10_08/1.3-lab-functions/mod/testing.py\", line 142, in runTest\n",
      "    self.assertAlmostEqual(fn(self.input), self.output, delta=5, msg=f\"Should be {self.output}\")\n",
      "AssertionError: 597.0058667198834 != 605.7217418678551 within 5 delta (8.715875147971701 difference) : Should be 605.7217418678551\n",
      "\n",
      "======================================================================\n",
      "FAIL: runTest (mod.testing.test_stdev.<locals>.TestKnown)\n",
      "----------------------------------------------------------------------\n",
      "Traceback (most recent call last):\n",
      "  File \"/Users/carlosbasco/Desktop/Labs/Lab Bash 10_08/1.3-lab-functions/mod/testing.py\", line 142, in runTest\n",
      "    self.assertAlmostEqual(fn(self.input), self.output, delta=5, msg=f\"Should be {self.output}\")\n",
      "AssertionError: 609.6570529586468 != 636.7660242953998 within 5 delta (27.10897133675303 difference) : Should be 636.7660242953998\n",
      "\n",
      "======================================================================\n",
      "FAIL: runTest (mod.testing.test_stdev.<locals>.TestKnown)\n",
      "----------------------------------------------------------------------\n",
      "Traceback (most recent call last):\n",
      "  File \"/Users/carlosbasco/Desktop/Labs/Lab Bash 10_08/1.3-lab-functions/mod/testing.py\", line 142, in runTest\n",
      "    self.assertAlmostEqual(fn(self.input), self.output, delta=5, msg=f\"Should be {self.output}\")\n",
      "AssertionError: 569.8478279048674 != 579.9344132273236 within 5 delta (10.086585322456244 difference) : Should be 579.9344132273236\n",
      "\n",
      "======================================================================\n",
      "FAIL: runTest (mod.testing.test_stdev.<locals>.TestKnown)\n",
      "----------------------------------------------------------------------\n",
      "Traceback (most recent call last):\n",
      "  File \"/Users/carlosbasco/Desktop/Labs/Lab Bash 10_08/1.3-lab-functions/mod/testing.py\", line 142, in runTest\n",
      "    self.assertAlmostEqual(fn(self.input), self.output, delta=5, msg=f\"Should be {self.output}\")\n",
      "AssertionError: 659.2668817926253 != 684.1535758765099 within 5 delta (24.88669408388455 difference) : Should be 684.1535758765099\n",
      "\n",
      "======================================================================\n",
      "FAIL: runTest (mod.testing.test_stdev.<locals>.TestKnown)\n",
      "----------------------------------------------------------------------\n",
      "Traceback (most recent call last):\n",
      "  File \"/Users/carlosbasco/Desktop/Labs/Lab Bash 10_08/1.3-lab-functions/mod/testing.py\", line 142, in runTest\n",
      "    self.assertAlmostEqual(fn(self.input), self.output, delta=5, msg=f\"Should be {self.output}\")\n",
      "AssertionError: 579.622783626757 != 585.8891579965526 within 5 delta (6.266374369795585 difference) : Should be 585.8891579965526\n",
      "\n",
      "======================================================================\n",
      "FAIL: runTest (mod.testing.test_stdev.<locals>.TestKnown)\n",
      "----------------------------------------------------------------------\n",
      "Traceback (most recent call last):\n",
      "  File \"/Users/carlosbasco/Desktop/Labs/Lab Bash 10_08/1.3-lab-functions/mod/testing.py\", line 142, in runTest\n",
      "    self.assertAlmostEqual(fn(self.input), self.output, delta=5, msg=f\"Should be {self.output}\")\n",
      "AssertionError: 573.2932862950952 != 581.2011534578891 within 5 delta (7.9078671627938775 difference) : Should be 581.2011534578891\n",
      "\n",
      "======================================================================\n",
      "FAIL: runTest (mod.testing.test_stdev.<locals>.TestKnown)\n",
      "----------------------------------------------------------------------\n",
      "Traceback (most recent call last):\n",
      "  File \"/Users/carlosbasco/Desktop/Labs/Lab Bash 10_08/1.3-lab-functions/mod/testing.py\", line 142, in runTest\n",
      "    self.assertAlmostEqual(fn(self.input), self.output, delta=5, msg=f\"Should be {self.output}\")\n",
      "AssertionError: 618.9444695015303 != 627.9806331649505 within 5 delta (9.036163663420211 difference) : Should be 627.9806331649505\n",
      "\n",
      "======================================================================\n",
      "FAIL: runTest (mod.testing.test_stdev.<locals>.TestKnown)\n",
      "----------------------------------------------------------------------\n",
      "Traceback (most recent call last):\n",
      "  File \"/Users/carlosbasco/Desktop/Labs/Lab Bash 10_08/1.3-lab-functions/mod/testing.py\", line 142, in runTest\n",
      "    self.assertAlmostEqual(fn(self.input), self.output, delta=5, msg=f\"Should be {self.output}\")\n",
      "AssertionError: 583.7796297810257 != 591.4110599535298 within 5 delta (7.6314301725041105 difference) : Should be 591.4110599535298\n",
      "\n",
      "======================================================================\n",
      "FAIL: runTest (mod.testing.test_stdev.<locals>.TestKnown)\n",
      "----------------------------------------------------------------------\n",
      "Traceback (most recent call last):\n",
      "  File \"/Users/carlosbasco/Desktop/Labs/Lab Bash 10_08/1.3-lab-functions/mod/testing.py\", line 142, in runTest\n",
      "    self.assertAlmostEqual(fn(self.input), self.output, delta=5, msg=f\"Should be {self.output}\")\n",
      "AssertionError: 576.5980450500639 != 602.237016665718 within 5 delta (25.6389716156541 difference) : Should be 602.237016665718\n",
      "\n"
     ]
    },
    {
     "name": "stderr",
     "output_type": "stream",
     "text": [
      "======================================================================\n",
      "FAIL: runTest (mod.testing.test_stdev.<locals>.TestKnown)\n",
      "----------------------------------------------------------------------\n",
      "Traceback (most recent call last):\n",
      "  File \"/Users/carlosbasco/Desktop/Labs/Lab Bash 10_08/1.3-lab-functions/mod/testing.py\", line 142, in runTest\n",
      "    self.assertAlmostEqual(fn(self.input), self.output, delta=5, msg=f\"Should be {self.output}\")\n",
      "AssertionError: 590.3774143940569 != 595.920985914684 within 5 delta (5.543571520627097 difference) : Should be 595.920985914684\n",
      "\n",
      "======================================================================\n",
      "FAIL: runTest (mod.testing.test_stdev.<locals>.TestKnown)\n",
      "----------------------------------------------------------------------\n",
      "Traceback (most recent call last):\n",
      "  File \"/Users/carlosbasco/Desktop/Labs/Lab Bash 10_08/1.3-lab-functions/mod/testing.py\", line 142, in runTest\n",
      "    self.assertAlmostEqual(fn(self.input), self.output, delta=5, msg=f\"Should be {self.output}\")\n",
      "AssertionError: 462.22016572192086 != 471.75148118474414 within 5 delta (9.531315462823272 difference) : Should be 471.75148118474414\n",
      "\n",
      "======================================================================\n",
      "FAIL: runTest (mod.testing.test_stdev.<locals>.TestKnown)\n",
      "----------------------------------------------------------------------\n",
      "Traceback (most recent call last):\n",
      "  File \"/Users/carlosbasco/Desktop/Labs/Lab Bash 10_08/1.3-lab-functions/mod/testing.py\", line 142, in runTest\n",
      "    self.assertAlmostEqual(fn(self.input), self.output, delta=5, msg=f\"Should be {self.output}\")\n",
      "AssertionError: 448.39729331594015 != 456.6254528963582 within 5 delta (8.228159580418037 difference) : Should be 456.6254528963582\n",
      "\n",
      "======================================================================\n",
      "FAIL: runTest (mod.testing.test_stdev.<locals>.TestKnown)\n",
      "----------------------------------------------------------------------\n",
      "Traceback (most recent call last):\n",
      "  File \"/Users/carlosbasco/Desktop/Labs/Lab Bash 10_08/1.3-lab-functions/mod/testing.py\", line 142, in runTest\n",
      "    self.assertAlmostEqual(fn(self.input), self.output, delta=5, msg=f\"Should be {self.output}\")\n",
      "AssertionError: 548.8947369234126 != 558.278232655968 within 5 delta (9.383495732555502 difference) : Should be 558.278232655968\n",
      "\n",
      "======================================================================\n",
      "FAIL: runTest (mod.testing.test_stdev.<locals>.TestKnown)\n",
      "----------------------------------------------------------------------\n",
      "Traceback (most recent call last):\n",
      "  File \"/Users/carlosbasco/Desktop/Labs/Lab Bash 10_08/1.3-lab-functions/mod/testing.py\", line 142, in runTest\n",
      "    self.assertAlmostEqual(fn(self.input), self.output, delta=5, msg=f\"Should be {self.output}\")\n",
      "AssertionError: 541.4333855798035 != 549.3379407152247 within 5 delta (7.904555135421219 difference) : Should be 549.3379407152247\n",
      "\n",
      "======================================================================\n",
      "FAIL: runTest (mod.testing.test_stdev.<locals>.TestKnown)\n",
      "----------------------------------------------------------------------\n",
      "Traceback (most recent call last):\n",
      "  File \"/Users/carlosbasco/Desktop/Labs/Lab Bash 10_08/1.3-lab-functions/mod/testing.py\", line 142, in runTest\n",
      "    self.assertAlmostEqual(fn(self.input), self.output, delta=5, msg=f\"Should be {self.output}\")\n",
      "AssertionError: 626.9468077937405 != 635.1425387536352 within 5 delta (8.195730959894718 difference) : Should be 635.1425387536352\n",
      "\n",
      "======================================================================\n",
      "FAIL: runTest (mod.testing.test_stdev.<locals>.TestKnown)\n",
      "----------------------------------------------------------------------\n",
      "Traceback (most recent call last):\n",
      "  File \"/Users/carlosbasco/Desktop/Labs/Lab Bash 10_08/1.3-lab-functions/mod/testing.py\", line 142, in runTest\n",
      "    self.assertAlmostEqual(fn(self.input), self.output, delta=5, msg=f\"Should be {self.output}\")\n",
      "AssertionError: 594.3258873751678 != 604.8457463248714 within 5 delta (10.519858949703575 difference) : Should be 604.8457463248714\n",
      "\n",
      "======================================================================\n",
      "FAIL: runTest (mod.testing.test_stdev.<locals>.TestKnown)\n",
      "----------------------------------------------------------------------\n",
      "Traceback (most recent call last):\n",
      "  File \"/Users/carlosbasco/Desktop/Labs/Lab Bash 10_08/1.3-lab-functions/mod/testing.py\", line 142, in runTest\n",
      "    self.assertAlmostEqual(fn(self.input), self.output, delta=5, msg=f\"Should be {self.output}\")\n",
      "AssertionError: 584.1455992881188 != 589.7356366967581 within 5 delta (5.5900374086393185 difference) : Should be 589.7356366967581\n",
      "\n",
      "======================================================================\n",
      "FAIL: runTest (mod.testing.test_stdev.<locals>.TestKnown)\n",
      "----------------------------------------------------------------------\n",
      "Traceback (most recent call last):\n",
      "  File \"/Users/carlosbasco/Desktop/Labs/Lab Bash 10_08/1.3-lab-functions/mod/testing.py\", line 142, in runTest\n",
      "    self.assertAlmostEqual(fn(self.input), self.output, delta=5, msg=f\"Should be {self.output}\")\n",
      "AssertionError: 544.1651033706163 != 550.925177514617 within 5 delta (6.760074144000669 difference) : Should be 550.925177514617\n",
      "\n",
      "======================================================================\n",
      "FAIL: runTest (mod.testing.test_stdev.<locals>.TestKnown)\n",
      "----------------------------------------------------------------------\n",
      "Traceback (most recent call last):\n",
      "  File \"/Users/carlosbasco/Desktop/Labs/Lab Bash 10_08/1.3-lab-functions/mod/testing.py\", line 142, in runTest\n",
      "    self.assertAlmostEqual(fn(self.input), self.output, delta=5, msg=f\"Should be {self.output}\")\n",
      "AssertionError: 605.4620193174279 != 615.1500267768412 within 5 delta (9.688007459413257 difference) : Should be 615.1500267768412\n",
      "\n",
      "======================================================================\n",
      "FAIL: runTest (mod.testing.test_stdev.<locals>.TestKnown)\n",
      "----------------------------------------------------------------------\n",
      "Traceback (most recent call last):\n",
      "  File \"/Users/carlosbasco/Desktop/Labs/Lab Bash 10_08/1.3-lab-functions/mod/testing.py\", line 142, in runTest\n",
      "    self.assertAlmostEqual(fn(self.input), self.output, delta=5, msg=f\"Should be {self.output}\")\n",
      "AssertionError: 544.1160715851064 != 552.5524827671316 within 5 delta (8.436411182025154 difference) : Should be 552.5524827671316\n",
      "\n",
      "======================================================================\n",
      "FAIL: runTest (mod.testing.test_stdev.<locals>.TestKnown)\n",
      "----------------------------------------------------------------------\n",
      "Traceback (most recent call last):\n",
      "  File \"/Users/carlosbasco/Desktop/Labs/Lab Bash 10_08/1.3-lab-functions/mod/testing.py\", line 142, in runTest\n",
      "    self.assertAlmostEqual(fn(self.input), self.output, delta=5, msg=f\"Should be {self.output}\")\n",
      "AssertionError: 566.0331301257904 != 571.7798066974199 within 5 delta (5.74667657162945 difference) : Should be 571.7798066974199\n",
      "\n",
      "======================================================================\n",
      "FAIL: runTest (mod.testing.test_stdev.<locals>.TestKnown)\n",
      "----------------------------------------------------------------------\n",
      "Traceback (most recent call last):\n",
      "  File \"/Users/carlosbasco/Desktop/Labs/Lab Bash 10_08/1.3-lab-functions/mod/testing.py\", line 142, in runTest\n",
      "    self.assertAlmostEqual(fn(self.input), self.output, delta=5, msg=f\"Should be {self.output}\")\n",
      "AssertionError: 534.6818559348842 != 540.3400225619694 within 5 delta (5.658166627085166 difference) : Should be 540.3400225619694\n",
      "\n",
      "======================================================================\n",
      "FAIL: runTest (mod.testing.test_stdev.<locals>.TestKnown)\n",
      "----------------------------------------------------------------------\n",
      "Traceback (most recent call last):\n",
      "  File \"/Users/carlosbasco/Desktop/Labs/Lab Bash 10_08/1.3-lab-functions/mod/testing.py\", line 142, in runTest\n",
      "    self.assertAlmostEqual(fn(self.input), self.output, delta=5, msg=f\"Should be {self.output}\")\n",
      "AssertionError: 576.5065124771544 != 587.0854960136808 within 5 delta (10.57898353652638 difference) : Should be 587.0854960136808\n",
      "\n",
      "======================================================================\n",
      "FAIL: runTest (mod.testing.test_stdev.<locals>.TestKnown)\n",
      "----------------------------------------------------------------------\n",
      "Traceback (most recent call last):\n",
      "  File \"/Users/carlosbasco/Desktop/Labs/Lab Bash 10_08/1.3-lab-functions/mod/testing.py\", line 142, in runTest\n",
      "    self.assertAlmostEqual(fn(self.input), self.output, delta=5, msg=f\"Should be {self.output}\")\n",
      "AssertionError: 618.3537599537821 != 623.9498356459416 within 5 delta (5.596075692159502 difference) : Should be 623.9498356459416\n",
      "\n"
     ]
    },
    {
     "name": "stderr",
     "output_type": "stream",
     "text": [
      "======================================================================\n",
      "FAIL: runTest (mod.testing.test_stdev.<locals>.TestKnown)\n",
      "----------------------------------------------------------------------\n",
      "Traceback (most recent call last):\n",
      "  File \"/Users/carlosbasco/Desktop/Labs/Lab Bash 10_08/1.3-lab-functions/mod/testing.py\", line 142, in runTest\n",
      "    self.assertAlmostEqual(fn(self.input), self.output, delta=5, msg=f\"Should be {self.output}\")\n",
      "AssertionError: 604.5982014973021 != 610.2753044648722 within 5 delta (5.677102967570136 difference) : Should be 610.2753044648722\n",
      "\n",
      "======================================================================\n",
      "FAIL: runTest (mod.testing.test_stdev.<locals>.TestKnown)\n",
      "----------------------------------------------------------------------\n",
      "Traceback (most recent call last):\n",
      "  File \"/Users/carlosbasco/Desktop/Labs/Lab Bash 10_08/1.3-lab-functions/mod/testing.py\", line 142, in runTest\n",
      "    self.assertAlmostEqual(fn(self.input), self.output, delta=5, msg=f\"Should be {self.output}\")\n",
      "AssertionError: 595.4244144973411 != 603.4170461454892 within 5 delta (7.992631648148063 difference) : Should be 603.4170461454892\n",
      "\n",
      "----------------------------------------------------------------------\n",
      "Ran 100 tests in 0.037s\n",
      "\n",
      "FAILED (failures=47)\n"
     ]
    }
   ],
   "source": [
    "# This will test your function \n",
    "test_stdev(st_dev)"
   ]
  },
  {
   "cell_type": "markdown",
   "metadata": {},
   "source": [
    "## 10. Write a function to check if a string is a pangram, i.e.: if it contains all the letters of the alphabet at least once. Mind that the strings may contain characters that are not letters."
   ]
  },
  {
   "cell_type": "code",
   "execution_count": null,
   "metadata": {},
   "outputs": [],
   "source": [
    "def pangram(string):\n",
    "    pass"
   ]
  },
  {
   "cell_type": "code",
   "execution_count": null,
   "metadata": {},
   "outputs": [],
   "source": [
    "# This will test your function \n",
    "test_pangram(pangram)"
   ]
  },
  {
   "cell_type": "markdown",
   "metadata": {},
   "source": [
    "## 11. Write a function that receives a string of comma separated words and returns a string of comma separated words sorted alphabetically.\n",
    "\n",
    "`NOTE: You may use sorted but not split and definitely no join! 🤪`"
   ]
  },
  {
   "cell_type": "code",
   "execution_count": null,
   "metadata": {},
   "outputs": [],
   "source": [
    "def sort_alpha(string):\n",
    "    pass"
   ]
  },
  {
   "cell_type": "code",
   "execution_count": null,
   "metadata": {},
   "outputs": [],
   "source": [
    "# This will test your function \n",
    "test_alpha(sort_alpha)"
   ]
  },
  {
   "cell_type": "markdown",
   "metadata": {},
   "source": [
    "## 12. Write a function to check if a given password is strong (at least 8 characters, at least one lower case, at least one upper case, at least one number and at least one special character). It should output True if strong and False if not.\n",
    "`Valid special characters: # @ ! $ % & ( ) ^ * [ ] { }`"
   ]
  },
  {
   "cell_type": "code",
   "execution_count": null,
   "metadata": {},
   "outputs": [],
   "source": [
    "def check_pass(string):\n",
    "    pass"
   ]
  },
  {
   "cell_type": "code",
   "execution_count": null,
   "metadata": {},
   "outputs": [],
   "source": [
    "# This will test your function \n",
    "test_pass(check_pass)"
   ]
  }
 ],
 "metadata": {
  "kernelspec": {
   "display_name": "Python 3 (ipykernel)",
   "language": "python",
   "name": "python3"
  },
  "language_info": {
   "codemirror_mode": {
    "name": "ipython",
    "version": 3
   },
   "file_extension": ".py",
   "mimetype": "text/x-python",
   "name": "python",
   "nbconvert_exporter": "python",
   "pygments_lexer": "ipython3",
   "version": "3.9.12"
  },
  "toc": {
   "base_numbering": 1,
   "nav_menu": {},
   "number_sections": true,
   "sideBar": true,
   "skip_h1_title": false,
   "title_cell": "Table of Contents",
   "title_sidebar": "Contents",
   "toc_cell": true,
   "toc_position": {},
   "toc_section_display": true,
   "toc_window_display": false
  },
  "varInspector": {
   "cols": {
    "lenName": 16,
    "lenType": 16,
    "lenVar": 40
   },
   "kernels_config": {
    "python": {
     "delete_cmd_postfix": "",
     "delete_cmd_prefix": "del ",
     "library": "var_list.py",
     "varRefreshCmd": "print(var_dic_list())"
    },
    "r": {
     "delete_cmd_postfix": ") ",
     "delete_cmd_prefix": "rm(",
     "library": "var_list.r",
     "varRefreshCmd": "cat(var_dic_list()) "
    }
   },
   "types_to_exclude": [
    "module",
    "function",
    "builtin_function_or_method",
    "instance",
    "_Feature"
   ],
   "window_display": false
  }
 },
 "nbformat": 4,
 "nbformat_minor": 4
}
